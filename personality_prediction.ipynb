{
 "cells": [
  {
   "cell_type": "code",
   "execution_count": 1,
   "metadata": {},
   "outputs": [
    {
     "data": {
      "text/html": [
       "<script>requirejs.config({paths: { 'plotly': ['https://cdn.plot.ly/plotly-latest.min']},});if(!window.Plotly) {{require(['plotly'],function(plotly) {window.Plotly=plotly;});}}</script>"
      ],
      "text/vnd.plotly.v1+html": [
       "<script>requirejs.config({paths: { 'plotly': ['https://cdn.plot.ly/plotly-latest.min']},});if(!window.Plotly) {{require(['plotly'],function(plotly) {window.Plotly=plotly;});}}</script>"
      ]
     },
     "metadata": {},
     "output_type": "display_data"
    }
   ],
   "source": [
    "%matplotlib inline\n",
    "\n",
    "import re  #regular expression\n",
    "import numpy as np  #for multidimensional array and matrices\n",
    "import pandas as pd  #for data manipulation and analysis\n",
    "import matplotlib.pyplot as plt  \n",
    "import seaborn as sns  # visualization library based on matplotlib\n",
    "import plotly.offline as py  #Instead of saving the graphs to a server, your data and graphs will remain in your local system\n",
    "import plotly.graph_objs as go\n",
    "import plotly.tools as tls\n",
    "from bs4 import BeautifulSoup\n",
    "from sklearn.model_selection import cross_validate\n",
    "from sklearn.model_selection import StratifiedKFold\n",
    "from sklearn.linear_model import LogisticRegression\n",
    "from sklearn.model_selection import learning_curve\n",
    "from sklearn.ensemble import ExtraTreesClassifier\n",
    "from sklearn.decomposition import TruncatedSVD\n",
    "from sklearn.feature_extraction.text import TfidfVectorizer, CountVectorizer\n",
    "from sklearn.pipeline import Pipeline\n",
    "from sklearn.naive_bayes import MultinomialNB\n",
    "\n",
    "py.init_notebook_mode(connected=True)"
   ]
  },
  {
   "cell_type": "code",
   "execution_count": 2,
   "metadata": {},
   "outputs": [],
   "source": [
    "train = pd.read_csv('D:/projects/personality_prediction/mbti_1/mbti_1.csv')\n",
    "us = pd.read_csv('D:/projects/personality_prediction/meta-kaggle/Users.csv')\n",
    "ps = pd.read_csv('D:/projects/personality_prediction/meta-kaggle/ForumMessages.csv')\n",
    "mbti = {'I':'Introversion', 'E':'Extroversion', 'N':'Intuition', \n",
    "        'S':'Sensing', 'T':'Thinking', 'F': 'Feeling', \n",
    "        'J':'Judging', 'P': 'Perceiving'}"
   ]
  },
  {
   "cell_type": "code",
   "execution_count": 3,
   "metadata": {},
   "outputs": [
    {
     "data": {
      "text/plain": [
       "(8675, 2)"
      ]
     },
     "execution_count": 3,
     "metadata": {},
     "output_type": "execute_result"
    }
   ],
   "source": [
    "train.shape #no of rows(entries) * no of columns(attributes)"
   ]
  },
  {
   "cell_type": "code",
   "execution_count": 4,
   "metadata": {},
   "outputs": [
    {
     "data": {
      "image/png": "[encoded data removed]",
      "text/plain": [
       "<matplotlib.figure.Figure at 0x8c2e210>"
      ]
     },
     "metadata": {},
     "output_type": "display_data"
    }
   ],
   "source": [
    "# We take a look to the classes. It looks like it is a very unbalanced dataset:\n",
    "\n",
    "cnt_srs = train['type'].value_counts() #Returns object containing counts of unique values.\n",
    "\n",
    "plt.figure(figsize=(12,4))\n",
    "sns.barplot(cnt_srs.index, cnt_srs.values, alpha=0.8)\n",
    "plt.ylabel('Number of Occurrences', fontsize=12)\n",
    "plt.xlabel('Types', fontsize=12)\n",
    "plt.show()"
   ]
  },
  {
   "cell_type": "code",
   "execution_count": 5,
   "metadata": {},
   "outputs": [],
   "source": [
    "ps['Message'] = ps['Message'].fillna('')  #Replace all NaN elements with ' '"
   ]
  },
  {
   "cell_type": "code",
   "execution_count": 6,
   "metadata": {},
   "outputs": [],
   "source": [
    "ps_join = ps.groupby('Id')['Message'].agg(lambda col: ' '.join(col)).reset_index()  #to get a union of strings\n",
    "#.reset_index() : Generate a new DataFrame or Series with the index reset."
   ]
  },
  {
   "cell_type": "code",
   "execution_count": 7,
   "metadata": {},
   "outputs": [],
   "source": [
    "# ExtraTreesClassifier with SVD  We want to evaluate its performance.\n",
    "\n",
    "etc = ExtraTreesClassifier(n_estimators = 20, max_depth=4, n_jobs = -1)\n",
    "#implements a meta estimator that fits a number of randomized decision trees on various sub-samples of the dataset \n",
    "#and use avg to improve the predictive accuracy and control over-fitting.\n",
    "#n_estimators : number of trees in the forest. n_jobs : jobs to run in parallel.If -1, then the no of jobs is set to no of cores.\n",
    "\n",
    "tfidf = TfidfVectorizer(ngram_range=(1, 1), stop_words='english') \n",
    "# term frequency-inverse document frequency,\n",
    "#Convert a collection of raw documents to a matrix of TF-IDF features.\n",
    "\n",
    "tsvd = TruncatedSVD(n_components=10)\n",
    "# Dimensionality reduction using truncated SVD (aka LSA: latent semantic analysis) n_components : Desired dimensionality of output data\n",
    "\n",
    "model = Pipeline([('tfidf1', tfidf), ('tsvd1', tsvd), ('etc', etc)])\n",
    "#Its purpose is to aggregate a number of data transformation steps, and a model operating on the result of these transformations,\n",
    "#into a single object that can then be used in place of a simple estimator"
   ]
  },
  {
   "cell_type": "code",
   "execution_count": 8,
   "metadata": {},
   "outputs": [],
   "source": [
    "kfolds = StratifiedKFold(n_splits=5, shuffle=True, random_state=1) #Provides train/test indices to split data in train/test sets."
   ]
  },
  {
   "cell_type": "code",
   "execution_count": 9,
   "metadata": {},
   "outputs": [],
   "source": [
    "np.random.seed(1) #seed() sets the integer starting value used in generating random numbers, same seed => same no each time \n",
    "# makes the random numbers predictable\n",
    "\n",
    "scoring = {'acc': 'accuracy',\n",
    "           'neg_log_loss': 'neg_log_loss',\n",
    "           'f1_micro': 'f1_micro'}\n",
    "\n",
    "results = cross_validate(model, train['posts'], train['type'], cv=kfolds, \n",
    "                          scoring=scoring, n_jobs=-1)\n",
    "#Evaluate metric(s) by cross-validation and also record fit/score times."
   ]
  },
  {
   "cell_type": "code",
   "execution_count": 10,
   "metadata": {},
   "outputs": [
    {
     "name": "stdout",
     "output_type": "stream",
     "text": [
      "CV Accuracy: 0.2900 (+/- 0.0119)\n",
      "CV F1: 0.2900 (+/- 0.0119)\n",
      "CV Logloss: 2.1416 (+/- 0.0123)\n"
     ]
    }
   ],
   "source": [
    "print(\"CV Accuracy: {:0.4f} (+/- {:0.4f})\".format(np.mean(results['test_acc']),\n",
    "                                                          np.std(results['test_acc'])))\n",
    "\n",
    "print(\"CV F1: {:0.4f} (+/- {:0.4f})\".format(np.mean(results['test_f1_micro']),\n",
    "                                                          np.std(results['test_f1_micro'])))\n",
    "\n",
    "print(\"CV Logloss: {:0.4f} (+/- {:0.4f})\".format(np.mean(-1*results['test_neg_log_loss']),\n",
    "                                                          np.std(-1*results['test_neg_log_loss'])))"
   ]
  },
  {
   "cell_type": "code",
   "execution_count": 11,
   "metadata": {},
   "outputs": [],
   "source": [
    "#As the dataset is very unbalanced F1 score is a better metric than accuracy\n",
    "#Alternative models\n",
    "#Let's try if we can find a more accuracy model, although we haven't got a lot of data"
   ]
  },
  {
   "cell_type": "code",
   "execution_count": 12,
   "metadata": {},
   "outputs": [],
   "source": [
    "def cleanText(text):\n",
    "    text = BeautifulSoup(text, \"html.parser\").text  #for pulling data out of HTML and XML files\n",
    "    text = re.sub(r'\\|\\|\\|', r' ', text) \n",
    "    text = re.sub(r'http\\S+', r'<URL>', text)\n",
    "    return text"
   ]
  },
  {
   "cell_type": "code",
   "execution_count": 13,
   "metadata": {
    "scrolled": true
   },
   "outputs": [],
   "source": [
    "train['clean_posts'] = train['posts'].apply(cleanText)"
   ]
  },
  {
   "cell_type": "code",
   "execution_count": 14,
   "metadata": {},
   "outputs": [],
   "source": [
    "#Naive Bayes\n",
    "\n",
    "np.random.seed(1)\n",
    "\n",
    "# Convert a collection of text documents to a matrix of token counts\n",
    "tfidf2 = CountVectorizer(ngram_range=(1, 1), \n",
    "                         stop_words='english',\n",
    "                         lowercase = True, \n",
    "                         max_features = 5000)\n",
    "\n",
    "model_nb = Pipeline([('tfidf1', tfidf2), ('nb', MultinomialNB())]) # Naive Bayes classifier for multinomial models\n",
    "\n",
    "results_nb = cross_validate(model_nb, train['clean_posts'], train['type'], cv=kfolds, \n",
    "                          scoring=scoring, n_jobs=-1)"
   ]
  },
  {
   "cell_type": "code",
   "execution_count": 15,
   "metadata": {},
   "outputs": [
    {
     "name": "stdout",
     "output_type": "stream",
     "text": [
      "CV Accuracy: 0.5618 (+/- 0.0111)\n",
      "CV F1: 0.5618 (+/- 0.0111)\n",
      "CV Logloss: 6.3275 (+/- 0.3023)\n"
     ]
    }
   ],
   "source": [
    "print(\"CV Accuracy: {:0.4f} (+/- {:0.4f})\".format(np.mean(results_nb['test_acc']),\n",
    "                                                          np.std(results_nb['test_acc'])))\n",
    "\n",
    "print(\"CV F1: {:0.4f} (+/- {:0.4f})\".format(np.mean(results_nb['test_f1_micro']),\n",
    "                                                          np.std(results_nb['test_f1_micro'])))\n",
    "\n",
    "print(\"CV Logloss: {:0.4f} (+/- {:0.4f})\".format(np.mean(-1*results_nb['test_neg_log_loss']),\n",
    "                                                          np.std(-1*results_nb['test_neg_log_loss'])))"
   ]
  },
  {
   "cell_type": "code",
   "execution_count": 16,
   "metadata": {},
   "outputs": [],
   "source": [
    "#Logistic Regression\n",
    "\n",
    "np.random.seed(1)\n",
    "\n",
    "tfidf2 = CountVectorizer(ngram_range=(1, 1), stop_words='english',\n",
    "                                                 lowercase = True, max_features = 5000)\n",
    "\n",
    "model_lr = Pipeline([('tfidf1', tfidf2), ('lr', LogisticRegression(class_weight=\"balanced\", C=0.005))])\n",
    "\n",
    "results_lr = cross_validate(model_lr, train['clean_posts'], train['type'], cv=kfolds, \n",
    "                          scoring=scoring, n_jobs=-1)"
   ]
  },
  {
   "cell_type": "code",
   "execution_count": 17,
   "metadata": {},
   "outputs": [
    {
     "name": "stdout",
     "output_type": "stream",
     "text": [
      "CV Accuracy: 0.6724 (+/- 0.0096)\n",
      "CV F1: 0.6724 (+/- 0.0096)\n",
      "CV Logloss: 1.2352 (+/- 0.0227)\n"
     ]
    }
   ],
   "source": [
    "print(\"CV Accuracy: {:0.4f} (+/- {:0.4f})\".format(np.mean(results_lr['test_acc']),\n",
    "                                                          np.std(results_lr['test_acc'])))\n",
    "\n",
    "print(\"CV F1: {:0.4f} (+/- {:0.4f})\".format(np.mean(results_lr['test_f1_micro']),\n",
    "                                                          np.std(results_lr['test_f1_micro'])))\n",
    "\n",
    "print(\"CV Logloss: {:0.4f} (+/- {:0.4f})\".format(np.mean(-1*results_lr['test_neg_log_loss']),\n",
    "                                                          np.std(-1*results_lr['test_neg_log_loss'])))"
   ]
  },
  {
   "cell_type": "code",
   "execution_count": 18,
   "metadata": {},
   "outputs": [],
   "source": [
    "#Is this model overtitting? could we have a better model with more data? Let's see the learning curve:\n",
    "\n",
    "train_sizes, train_scores, test_scores = \\\n",
    "    learning_curve(model_lr, train['clean_posts'], train['type'], cv=kfolds, n_jobs=-1, \n",
    "                   scoring=\"f1_micro\", train_sizes=np.linspace(.1, 1.0, 10), random_state=1)\n",
    "# Determines cross-validated training and test scores for different training set sizes."
   ]
  },
  {
   "cell_type": "code",
   "execution_count": 19,
   "metadata": {},
   "outputs": [],
   "source": [
    "def plot_learning_curve(X, y, train_sizes, train_scores, test_scores, title='', ylim=None, figsize=(14,8)):\n",
    "\n",
    "    plt.figure(figsize=figsize)\n",
    "    plt.title(title)\n",
    "    if ylim is not None:\n",
    "        plt.ylim(*ylim)\n",
    "    plt.xlabel(\"Training examples\")\n",
    "    plt.ylabel(\"Score\")\n",
    "\n",
    "    train_scores_mean = np.mean(train_scores, axis=1)\n",
    "    train_scores_std = np.std(train_scores, axis=1)\n",
    "    test_scores_mean = np.mean(test_scores, axis=1)\n",
    "    test_scores_std = np.std(test_scores, axis=1)\n",
    "    plt.grid()\n",
    "\n",
    "    plt.fill_between(train_sizes, train_scores_mean - train_scores_std,\n",
    "                     train_scores_mean + train_scores_std, alpha=0.1,\n",
    "                     color=\"r\")\n",
    "    plt.fill_between(train_sizes, test_scores_mean - test_scores_std,\n",
    "                     test_scores_mean + test_scores_std, alpha=0.1, color=\"g\")\n",
    "    plt.plot(train_sizes, train_scores_mean, 'o-', color=\"r\",\n",
    "             label=\"Training score\")\n",
    "    plt.plot(train_sizes, test_scores_mean, 'o-', color=\"g\",\n",
    "             label=\"Cross-validation score\")\n",
    "\n",
    "    plt.legend(loc=\"best\")\n",
    "    return plt"
   ]
  },
  {
   "cell_type": "code",
   "execution_count": 20,
   "metadata": {},
   "outputs": [
    {
     "data": {
      "image/png": "[encoded data removed]",
      "text/plain": [
       "<matplotlib.figure.Figure at 0x102f2670>"
      ]
     },
     "metadata": {},
     "output_type": "display_data"
    }
   ],
   "source": [
    "import matplotlib.pyplot as plt\n",
    "\n",
    "plot_learning_curve(train['posts'], train['type'], train_sizes, \n",
    "                    train_scores, test_scores, ylim=(0.1, 1.01), figsize=(14,6))\n",
    "plt.show()"
   ]
  },
  {
   "cell_type": "code",
   "execution_count": 21,
   "metadata": {},
   "outputs": [],
   "source": [
    "# It looks like that with more data the model gets better and that it is not overfitting."
   ]
  },
  {
   "cell_type": "code",
   "execution_count": 22,
   "metadata": {},
   "outputs": [
    {
     "name": "stderr",
     "output_type": "stream",
     "text": [
      "c:\\users\\ankur\\appdata\\local\\programs\\python\\python36-32\\lib\\site-packages\\bs4\\__init__.py:282: UserWarning:\n",
      "\n",
      "\"http://www-stat.stanford.edu/~tibs/ElemStatLearn/\" looks like a URL. Beautiful Soup is not an HTTP client. You should probably use an HTTP client like requests to get the document behind the URL, and feed that document to Beautiful Soup.\n",
      "\n"
     ]
    }
   ],
   "source": [
    "#Kaggle users personality\n",
    "#Let's apply our last model to whole kaggle users comments. Let's see what is the most common kaggle user personalities\n",
    "\n",
    "ps_join['clean_comments'] = ps_join['Message'].apply(cleanText)"
   ]
  },
  {
   "cell_type": "code",
   "execution_count": 23,
   "metadata": {},
   "outputs": [],
   "source": [
    "model_lr.fit(train['clean_posts'], train['type'])\n",
    "pred_all = model_lr.predict(ps_join['clean_comments'])"
   ]
  },
  {
   "cell_type": "code",
   "execution_count": 24,
   "metadata": {},
   "outputs": [
    {
     "data": {
      "image/png": "[encoded data removed]",
      "text/plain": [
       "<matplotlib.figure.Figure at 0x30893df0>"
      ]
     },
     "metadata": {},
     "output_type": "display_data"
    }
   ],
   "source": [
    "cnt_all = np.unique(pred_all, return_counts=True)\n",
    "\n",
    "pred_df = pd.DataFrame({'personality': cnt_all[0], 'count': cnt_all[1]},\n",
    "                      columns=['personality', 'count'], index=None)\n",
    "\n",
    "pred_df.sort_values('count', ascending=False, inplace=True)\n",
    "\n",
    "plt.figure(figsize=(12,6))\n",
    "sns.barplot(pred_df['personality'], pred_df['count'], alpha=0.8)\n",
    "plt.ylabel('Number of Occurrences', fontsize=12)\n",
    "plt.xlabel('Personality', fontsize=12)\n",
    "plt.show()"
   ]
  },
  {
   "cell_type": "code",
   "execution_count": 25,
   "metadata": {},
   "outputs": [],
   "source": [
    "pred_df['percent'] = pred_df['count']/pred_df['count'].sum()"
   ]
  },
  {
   "cell_type": "code",
   "execution_count": 26,
   "metadata": {},
   "outputs": [],
   "source": [
    "pred_df['description'] = pred_df['personality'].apply(lambda x: ' '.join([mbti[l] for l in list(x)]))"
   ]
  },
  {
   "cell_type": "code",
   "execution_count": 27,
   "metadata": {},
   "outputs": [
    {
     "data": {
      "text/html": [
       "<div>\n",
       "<style scoped>\n",
       "    .dataframe tbody tr th:only-of-type {\n",
       "        vertical-align: middle;\n",
       "    }\n",
       "\n",
       "    .dataframe tbody tr th {\n",
       "        vertical-align: top;\n",
       "    }\n",
       "\n",
       "    .dataframe thead th {\n",
       "        text-align: right;\n",
       "    }\n",
       "</style>\n",
       "<table border=\"1\" class=\"dataframe\">\n",
       "  <thead>\n",
       "    <tr style=\"text-align: right;\">\n",
       "      <th></th>\n",
       "      <th>personality</th>\n",
       "      <th>count</th>\n",
       "      <th>percent</th>\n",
       "      <th>description</th>\n",
       "    </tr>\n",
       "  </thead>\n",
       "  <tbody>\n",
       "    <tr>\n",
       "      <th>5</th>\n",
       "      <td>ESFP</td>\n",
       "      <td>96944</td>\n",
       "      <td>0.314408</td>\n",
       "      <td>Extroversion Sensing Feeling Perceiving</td>\n",
       "    </tr>\n",
       "    <tr>\n",
       "      <th>10</th>\n",
       "      <td>INTJ</td>\n",
       "      <td>33768</td>\n",
       "      <td>0.109516</td>\n",
       "      <td>Introversion Intuition Thinking Judging</td>\n",
       "    </tr>\n",
       "    <tr>\n",
       "      <th>14</th>\n",
       "      <td>ISTJ</td>\n",
       "      <td>28960</td>\n",
       "      <td>0.093923</td>\n",
       "      <td>Introversion Sensing Thinking Judging</td>\n",
       "    </tr>\n",
       "    <tr>\n",
       "      <th>2</th>\n",
       "      <td>ENTJ</td>\n",
       "      <td>25518</td>\n",
       "      <td>0.082760</td>\n",
       "      <td>Extroversion Intuition Thinking Judging</td>\n",
       "    </tr>\n",
       "    <tr>\n",
       "      <th>6</th>\n",
       "      <td>ESTJ</td>\n",
       "      <td>18151</td>\n",
       "      <td>0.058867</td>\n",
       "      <td>Extroversion Sensing Thinking Judging</td>\n",
       "    </tr>\n",
       "    <tr>\n",
       "      <th>3</th>\n",
       "      <td>ENTP</td>\n",
       "      <td>17288</td>\n",
       "      <td>0.056068</td>\n",
       "      <td>Extroversion Intuition Thinking Perceiving</td>\n",
       "    </tr>\n",
       "    <tr>\n",
       "      <th>4</th>\n",
       "      <td>ESFJ</td>\n",
       "      <td>17035</td>\n",
       "      <td>0.055248</td>\n",
       "      <td>Extroversion Sensing Feeling Judging</td>\n",
       "    </tr>\n",
       "    <tr>\n",
       "      <th>12</th>\n",
       "      <td>ISFJ</td>\n",
       "      <td>14159</td>\n",
       "      <td>0.045920</td>\n",
       "      <td>Introversion Sensing Feeling Judging</td>\n",
       "    </tr>\n",
       "    <tr>\n",
       "      <th>11</th>\n",
       "      <td>INTP</td>\n",
       "      <td>13875</td>\n",
       "      <td>0.044999</td>\n",
       "      <td>Introversion Intuition Thinking Perceiving</td>\n",
       "    </tr>\n",
       "    <tr>\n",
       "      <th>15</th>\n",
       "      <td>ISTP</td>\n",
       "      <td>13616</td>\n",
       "      <td>0.044159</td>\n",
       "      <td>Introversion Sensing Thinking Perceiving</td>\n",
       "    </tr>\n",
       "    <tr>\n",
       "      <th>7</th>\n",
       "      <td>ESTP</td>\n",
       "      <td>11042</td>\n",
       "      <td>0.035811</td>\n",
       "      <td>Extroversion Sensing Thinking Perceiving</td>\n",
       "    </tr>\n",
       "    <tr>\n",
       "      <th>13</th>\n",
       "      <td>ISFP</td>\n",
       "      <td>7865</td>\n",
       "      <td>0.025508</td>\n",
       "      <td>Introversion Sensing Feeling Perceiving</td>\n",
       "    </tr>\n",
       "    <tr>\n",
       "      <th>0</th>\n",
       "      <td>ENFJ</td>\n",
       "      <td>4183</td>\n",
       "      <td>0.013566</td>\n",
       "      <td>Extroversion Intuition Feeling Judging</td>\n",
       "    </tr>\n",
       "    <tr>\n",
       "      <th>9</th>\n",
       "      <td>INFP</td>\n",
       "      <td>2742</td>\n",
       "      <td>0.008893</td>\n",
       "      <td>Introversion Intuition Feeling Perceiving</td>\n",
       "    </tr>\n",
       "    <tr>\n",
       "      <th>1</th>\n",
       "      <td>ENFP</td>\n",
       "      <td>2298</td>\n",
       "      <td>0.007453</td>\n",
       "      <td>Extroversion Intuition Feeling Perceiving</td>\n",
       "    </tr>\n",
       "    <tr>\n",
       "      <th>8</th>\n",
       "      <td>INFJ</td>\n",
       "      <td>894</td>\n",
       "      <td>0.002899</td>\n",
       "      <td>Introversion Intuition Feeling Judging</td>\n",
       "    </tr>\n",
       "  </tbody>\n",
       "</table>\n",
       "</div>"
      ],
      "text/plain": [
       "   personality  count   percent                                 description\n",
       "5         ESFP  96944  0.314408     Extroversion Sensing Feeling Perceiving\n",
       "10        INTJ  33768  0.109516     Introversion Intuition Thinking Judging\n",
       "14        ISTJ  28960  0.093923       Introversion Sensing Thinking Judging\n",
       "2         ENTJ  25518  0.082760     Extroversion Intuition Thinking Judging\n",
       "6         ESTJ  18151  0.058867       Extroversion Sensing Thinking Judging\n",
       "3         ENTP  17288  0.056068  Extroversion Intuition Thinking Perceiving\n",
       "4         ESFJ  17035  0.055248        Extroversion Sensing Feeling Judging\n",
       "12        ISFJ  14159  0.045920        Introversion Sensing Feeling Judging\n",
       "11        INTP  13875  0.044999  Introversion Intuition Thinking Perceiving\n",
       "15        ISTP  13616  0.044159    Introversion Sensing Thinking Perceiving\n",
       "7         ESTP  11042  0.035811    Extroversion Sensing Thinking Perceiving\n",
       "13        ISFP   7865  0.025508     Introversion Sensing Feeling Perceiving\n",
       "0         ENFJ   4183  0.013566      Extroversion Intuition Feeling Judging\n",
       "9         INFP   2742  0.008893   Introversion Intuition Feeling Perceiving\n",
       "1         ENFP   2298  0.007453   Extroversion Intuition Feeling Perceiving\n",
       "8         INFJ    894  0.002899      Introversion Intuition Feeling Judging"
      ]
     },
     "execution_count": 27,
     "metadata": {},
     "output_type": "execute_result"
    }
   ],
   "source": [
    "pred_df"
   ]
  },
  {
   "cell_type": "code",
   "execution_count": 28,
   "metadata": {},
   "outputs": [
    {
     "data": {
      "application/vnd.plotly.v1+json": {
       "data": [
        {
         "labels": [
          "Extroversion Sensing Feeling Perceiving",
          "Introversion Intuition Thinking Judging",
          "Introversion Sensing Thinking Judging",
          "Extroversion Intuition Thinking Judging",
          "Extroversion Sensing Thinking Judging",
          "Extroversion Intuition Thinking Perceiving",
          "Extroversion Sensing Feeling Judging",
          "Introversion Sensing Feeling Judging",
          "Introversion Intuition Thinking Perceiving",
          "Introversion Sensing Thinking Perceiving",
          "Extroversion Sensing Thinking Perceiving",
          "Introversion Sensing Feeling Perceiving",
          "Extroversion Intuition Feeling Judging",
          "Introversion Intuition Feeling Perceiving",
          "Extroversion Intuition Feeling Perceiving",
          "Introversion Intuition Feeling Judging"
         ],
         "type": "pie",
         "uid": "7e1e4910-890b-11e8-b0b2-086266df26c8",
         "values": [
          31.440821436216098,
          10.951618029564958,
          9.392290278849833,
          8.275982849989298,
          5.886721714482159,
          5.60683405872776,
          5.524781246554107,
          4.592038606983246,
          4.499931892922702,
          4.415933164254811,
          3.5811349882272054,
          2.5507722045287964,
          1.3566281158987863,
          0.8892838378662378,
          0.7452860172927113,
          0.28994155764128976
         ]
        }
       ],
       "layout": {
        "title": "Kaggle Personality Distribution"
       }
      },
      "text/html": [
       "<div id=\"bff91f7c-0445-4bd7-9ef5-dceb02b54830\" style=\"height: 525px; width: 100%;\" class=\"plotly-graph-div\"></div><script type=\"text/javascript\">require([\"plotly\"], function(Plotly) { window.PLOTLYENV=window.PLOTLYENV || {};window.PLOTLYENV.BASE_URL=\"https://plot.ly\";\n",
       "        Plotly.plot(\n",
       "            'bff91f7c-0445-4bd7-9ef5-dceb02b54830',\n",
       "            [{\"labels\": [\"Extroversion Sensing Feeling Perceiving\", \"Introversion Intuition Thinking Judging\", \"Introversion Sensing Thinking Judging\", \"Extroversion Intuition Thinking Judging\", \"Extroversion Sensing Thinking Judging\", \"Extroversion Intuition Thinking Perceiving\", \"Extroversion Sensing Feeling Judging\", \"Introversion Sensing Feeling Judging\", \"Introversion Intuition Thinking Perceiving\", \"Introversion Sensing Thinking Perceiving\", \"Extroversion Sensing Thinking Perceiving\", \"Introversion Sensing Feeling Perceiving\", \"Extroversion Intuition Feeling Judging\", \"Introversion Intuition Feeling Perceiving\", \"Extroversion Intuition Feeling Perceiving\", \"Introversion Intuition Feeling Judging\"], \"values\": [31.440821436216098, 10.951618029564958, 9.392290278849833, 8.275982849989298, 5.886721714482159, 5.60683405872776, 5.524781246554107, 4.592038606983246, 4.499931892922702, 4.415933164254811, 3.5811349882272054, 2.5507722045287964, 1.3566281158987863, 0.8892838378662378, 0.7452860172927113, 0.28994155764128976], \"type\": \"pie\", \"uid\": \"7e1e4910-890b-11e8-b0b2-086266df26c8\"}],\n",
       "            {\"title\": \"Kaggle Personality Distribution\"},\n",
       "            {\"showLink\": true, \"linkText\": \"Export to plot.ly\"}\n",
       "        ).then(function () {return Plotly.addFrames('bff91f7c-0445-4bd7-9ef5-dceb02b54830',{});}).then(function(){Plotly.animate('bff91f7c-0445-4bd7-9ef5-dceb02b54830');})\n",
       "        });</script>"
      ],
      "text/vnd.plotly.v1+html": [
       "<div id=\"bff91f7c-0445-4bd7-9ef5-dceb02b54830\" style=\"height: 525px; width: 100%;\" class=\"plotly-graph-div\"></div><script type=\"text/javascript\">require([\"plotly\"], function(Plotly) { window.PLOTLYENV=window.PLOTLYENV || {};window.PLOTLYENV.BASE_URL=\"https://plot.ly\";\n",
       "        Plotly.plot(\n",
       "            'bff91f7c-0445-4bd7-9ef5-dceb02b54830',\n",
       "            [{\"labels\": [\"Extroversion Sensing Feeling Perceiving\", \"Introversion Intuition Thinking Judging\", \"Introversion Sensing Thinking Judging\", \"Extroversion Intuition Thinking Judging\", \"Extroversion Sensing Thinking Judging\", \"Extroversion Intuition Thinking Perceiving\", \"Extroversion Sensing Feeling Judging\", \"Introversion Sensing Feeling Judging\", \"Introversion Intuition Thinking Perceiving\", \"Introversion Sensing Thinking Perceiving\", \"Extroversion Sensing Thinking Perceiving\", \"Introversion Sensing Feeling Perceiving\", \"Extroversion Intuition Feeling Judging\", \"Introversion Intuition Feeling Perceiving\", \"Extroversion Intuition Feeling Perceiving\", \"Introversion Intuition Feeling Judging\"], \"values\": [31.440821436216098, 10.951618029564958, 9.392290278849833, 8.275982849989298, 5.886721714482159, 5.60683405872776, 5.524781246554107, 4.592038606983246, 4.499931892922702, 4.415933164254811, 3.5811349882272054, 2.5507722045287964, 1.3566281158987863, 0.8892838378662378, 0.7452860172927113, 0.28994155764128976], \"type\": \"pie\", \"uid\": \"7e1e4910-890b-11e8-b0b2-086266df26c8\"}],\n",
       "            {\"title\": \"Kaggle Personality Distribution\"},\n",
       "            {\"showLink\": true, \"linkText\": \"Export to plot.ly\"}\n",
       "        ).then(function () {return Plotly.addFrames('bff91f7c-0445-4bd7-9ef5-dceb02b54830',{});}).then(function(){Plotly.animate('bff91f7c-0445-4bd7-9ef5-dceb02b54830');})\n",
       "        });</script>"
      ]
     },
     "metadata": {},
     "output_type": "display_data"
    }
   ],
   "source": [
    "labels = pred_df['description']\n",
    "sizes = pred_df['percent']*100\n",
    "\n",
    "trace = go.Pie(labels=labels, values=sizes)\n",
    "layout = go.Layout(\n",
    "    title='Kaggle Personality Distribution'\n",
    ")\n",
    "data = [trace]\n",
    "fig = go.Figure(data=data, layout=layout)\n",
    "py.iplot(fig)"
   ]
  },
  {
   "cell_type": "code",
   "execution_count": null,
   "metadata": {},
   "outputs": [],
   "source": []
  }
 ],
 "metadata": {
  "kernelspec": {
   "display_name": "Python 3",
   "language": "python",
   "name": "python3"
  },
  "language_info": {
   "codemirror_mode": {
    "name": "ipython",
    "version": 3
   },
   "file_extension": ".py",
   "mimetype": "text/x-python",
   "name": "python",
   "nbconvert_exporter": "python",
   "pygments_lexer": "ipython3",
   "version": "3.6.2"
  }
 },
 "nbformat": 4,
 "nbformat_minor": 2
}
